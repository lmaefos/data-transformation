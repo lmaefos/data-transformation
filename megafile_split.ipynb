{
 "cells": [
  {
   "cell_type": "code",
   "execution_count": 1,
   "metadata": {},
   "outputs": [],
   "source": [
    "# import block\n",
    "\n",
    "import pandas as pd\n",
    "import re"
   ]
  },
  {
   "cell_type": "code",
   "execution_count": 8,
   "metadata": {},
   "outputs": [],
   "source": [
    "# configuration block\n",
    "\n",
    "megafile_path = r'path_to_your_megafile.xlsx'\n",
    "output_directory = r'path_to_output'"
   ]
  },
  {
   "cell_type": "code",
   "execution_count": 9,
   "metadata": {},
   "outputs": [],
   "source": [
    "# helper functions block\n",
    "\n",
    "def safe_file_name(set_name):\n",
    "    # Replace invalid file name characters with '_'\n",
    "    return re.sub(r'[\\\\/*?:\"<>|]', '_', set_name)"
   ]
  },
  {
   "cell_type": "code",
   "execution_count": null,
   "metadata": {},
   "outputs": [],
   "source": [
    "# main functionality block\n",
    "def split_excel_by_set_name(input_path, output_dir):\n",
    "    # Load the dataset\n",
    "    df = pd.read_excel(input_path)\n",
    "\n",
    "    # Iterate through each unique set name\n",
    "    for set_name in df['Set Name'].unique():\n",
    "        # Filter the DataFrame for the current set name\n",
    "        filtered_df = df[df['Set Name'] == set_name]\n",
    "\n",
    "        # Prepare the file name using the safe_file_name function to avoid file path issues\n",
    "        safe_set_name = safe_file_name(set_name)\n",
    "        file_name = f\"{safe_set_name}.xlsx\"\n",
    "        full_path = output_dir + file_name\n",
    "\n",
    "        # Write the filtered DataFrame to a new Excel file\n",
    "        filtered_df.to_excel(full_path, index=False)\n",
    "\n",
    "        print(f\"Created file: {full_path}\")\n",
    "\n",
    "if __name__ == \"__main__\":\n",
    "    split_excel_by_set_name(megafile_path, output_directory)"
   ]
  }
 ],
 "metadata": {
  "kernelspec": {
   "display_name": "Python 3",
   "language": "python",
   "name": "python3"
  },
  "language_info": {
   "codemirror_mode": {
    "name": "ipython",
    "version": 3
   },
   "file_extension": ".py",
   "mimetype": "text/x-python",
   "name": "python",
   "nbconvert_exporter": "python",
   "pygments_lexer": "ipython3",
   "version": "3.11.4"
  }
 },
 "nbformat": 4,
 "nbformat_minor": 2
}
